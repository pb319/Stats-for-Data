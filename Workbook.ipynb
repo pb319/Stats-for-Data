{
 "cells": [
  {
   "cell_type": "code",
   "execution_count": 1,
   "id": "4b376c67-2747-444c-ad95-265798ba3176",
   "metadata": {},
   "outputs": [],
   "source": [
    "import pandas as  pd"
   ]
  },
  {
   "cell_type": "code",
   "execution_count": 2,
   "id": "5c9d223a-9906-4441-9a0f-b68d2bae2969",
   "metadata": {},
   "outputs": [],
   "source": [
    "d = {'State':[\"Alabama\",\"Alaska\",\"Arizina\",\"Arkansas\",\"California\",\"Colorado\",\"Connecticut\",\"Delaware\"],\n",
    "     'Population':[4779736,170231,6392017,2915918,37253956,5029196,3574097,897934],\n",
    "     'Murder.rate':[5.7,5.6,4.7,5.6,4.4,2.8,2.4,5.8],\n",
    "     'Abbreviation':['AL','AK','AZ','AR','CA','CO','CT','DE']}"
   ]
  },
  {
   "cell_type": "code",
   "execution_count": 3,
   "id": "f911e8fa-684c-4046-af63-cc25797ad725",
   "metadata": {},
   "outputs": [],
   "source": [
    "state = pd.DataFrame(d)"
   ]
  },
  {
   "cell_type": "code",
   "execution_count": 4,
   "id": "c6f3872d-d363-4c0b-8398-00fbc53ffc85",
   "metadata": {},
   "outputs": [
    {
     "data": {
      "text/html": [
       "<div>\n",
       "<style scoped>\n",
       "    .dataframe tbody tr th:only-of-type {\n",
       "        vertical-align: middle;\n",
       "    }\n",
       "\n",
       "    .dataframe tbody tr th {\n",
       "        vertical-align: top;\n",
       "    }\n",
       "\n",
       "    .dataframe thead th {\n",
       "        text-align: right;\n",
       "    }\n",
       "</style>\n",
       "<table border=\"1\" class=\"dataframe\">\n",
       "  <thead>\n",
       "    <tr style=\"text-align: right;\">\n",
       "      <th></th>\n",
       "      <th>State</th>\n",
       "      <th>Population</th>\n",
       "      <th>Murder.rate</th>\n",
       "      <th>Abbreviation</th>\n",
       "    </tr>\n",
       "  </thead>\n",
       "  <tbody>\n",
       "    <tr>\n",
       "      <th>0</th>\n",
       "      <td>Alabama</td>\n",
       "      <td>4779736</td>\n",
       "      <td>5.7</td>\n",
       "      <td>AL</td>\n",
       "    </tr>\n",
       "    <tr>\n",
       "      <th>1</th>\n",
       "      <td>Alaska</td>\n",
       "      <td>170231</td>\n",
       "      <td>5.6</td>\n",
       "      <td>AK</td>\n",
       "    </tr>\n",
       "    <tr>\n",
       "      <th>2</th>\n",
       "      <td>Arizina</td>\n",
       "      <td>6392017</td>\n",
       "      <td>4.7</td>\n",
       "      <td>AZ</td>\n",
       "    </tr>\n",
       "    <tr>\n",
       "      <th>3</th>\n",
       "      <td>Arkansas</td>\n",
       "      <td>2915918</td>\n",
       "      <td>5.6</td>\n",
       "      <td>AR</td>\n",
       "    </tr>\n",
       "    <tr>\n",
       "      <th>4</th>\n",
       "      <td>California</td>\n",
       "      <td>37253956</td>\n",
       "      <td>4.4</td>\n",
       "      <td>CA</td>\n",
       "    </tr>\n",
       "    <tr>\n",
       "      <th>5</th>\n",
       "      <td>Colorado</td>\n",
       "      <td>5029196</td>\n",
       "      <td>2.8</td>\n",
       "      <td>CO</td>\n",
       "    </tr>\n",
       "    <tr>\n",
       "      <th>6</th>\n",
       "      <td>Connecticut</td>\n",
       "      <td>3574097</td>\n",
       "      <td>2.4</td>\n",
       "      <td>CT</td>\n",
       "    </tr>\n",
       "    <tr>\n",
       "      <th>7</th>\n",
       "      <td>Delaware</td>\n",
       "      <td>897934</td>\n",
       "      <td>5.8</td>\n",
       "      <td>DE</td>\n",
       "    </tr>\n",
       "  </tbody>\n",
       "</table>\n",
       "</div>"
      ],
      "text/plain": [
       "         State  Population  Murder.rate Abbreviation\n",
       "0      Alabama     4779736          5.7           AL\n",
       "1       Alaska      170231          5.6           AK\n",
       "2      Arizina     6392017          4.7           AZ\n",
       "3     Arkansas     2915918          5.6           AR\n",
       "4   California    37253956          4.4           CA\n",
       "5     Colorado     5029196          2.8           CO\n",
       "6  Connecticut     3574097          2.4           CT\n",
       "7     Delaware      897934          5.8           DE"
      ]
     },
     "execution_count": 4,
     "metadata": {},
     "output_type": "execute_result"
    }
   ],
   "source": [
    "state"
   ]
  },
  {
   "cell_type": "code",
   "execution_count": 5,
   "id": "1791354e-3bfe-4013-9440-b066171944ea",
   "metadata": {},
   "outputs": [
    {
     "data": {
      "text/plain": [
       "7626635.625"
      ]
     },
     "execution_count": 5,
     "metadata": {},
     "output_type": "execute_result"
    }
   ],
   "source": [
    "state.Population.mean()"
   ]
  },
  {
   "cell_type": "code",
   "execution_count": 6,
   "id": "8a58061c-401d-45b2-b768-3540c8758ba4",
   "metadata": {},
   "outputs": [
    {
     "data": {
      "text/plain": [
       "4176916.5"
      ]
     },
     "execution_count": 6,
     "metadata": {},
     "output_type": "execute_result"
    }
   ],
   "source": [
    "state.Population.median()"
   ]
  },
  {
   "cell_type": "markdown",
   "id": "ccd654dd-e19d-4a28-a4ab-98a14d524c2a",
   "metadata": {},
   "source": [
    "## Robust Measures of Location"
   ]
  },
  {
   "cell_type": "markdown",
   "id": "d8df5036-2fe5-490b-b160-ea436a7053b4",
   "metadata": {},
   "source": [
    "### Trimmed Mean"
   ]
  },
  {
   "cell_type": "code",
   "execution_count": 7,
   "id": "2ffe01ca-81d1-4bbe-aa50-caa3d74e2d1e",
   "metadata": {},
   "outputs": [
    {
     "data": {
      "text/plain": [
       "7626635.625"
      ]
     },
     "execution_count": 7,
     "metadata": {},
     "output_type": "execute_result"
    }
   ],
   "source": [
    "import numpy as np\n",
    "from scipy import stats\n",
    "stats.trim_mean(state.Population, 0.10)"
   ]
  },
  {
   "cell_type": "markdown",
   "id": "830e7a36-0f12-4368-8b62-bbf1670bb5e7",
   "metadata": {},
   "source": [
    "### Weighted Mean"
   ]
  },
  {
   "cell_type": "code",
   "execution_count": 8,
   "id": "8e52e3cb-5575-4455-bade-35e71668c231",
   "metadata": {},
   "outputs": [
    {
     "data": {
      "text/plain": [
       "4.365529372920579"
      ]
     },
     "execution_count": 8,
     "metadata": {},
     "output_type": "execute_result"
    }
   ],
   "source": [
    "import numpy as np\n",
    "np.average(state[\"Murder.rate\"],weights= state.Population )"
   ]
  },
  {
   "cell_type": "markdown",
   "id": "b57de7f9-c89a-4eb6-9fec-2ba1fff39a34",
   "metadata": {},
   "source": [
    "### Weighted Median"
   ]
  },
  {
   "cell_type": "code",
   "execution_count": 9,
   "id": "7563e30a-8045-4f10-9d23-54442856f325",
   "metadata": {},
   "outputs": [
    {
     "data": {
      "text/plain": [
       "4.445038814921139"
      ]
     },
     "execution_count": 9,
     "metadata": {},
     "output_type": "execute_result"
    }
   ],
   "source": [
    "import wquantiles as wq\n",
    "wq.median(state[\"Murder.rate\"],weights= state.Population)"
   ]
  },
  {
   "cell_type": "markdown",
   "id": "a7494790-ef5e-4269-96bc-5eb56a2df07c",
   "metadata": {},
   "source": [
    "## Estimates of variablity"
   ]
  },
  {
   "cell_type": "code",
   "execution_count": 10,
   "id": "6c6313d7-f6e8-4934-b5e7-27aa282b40da",
   "metadata": {},
   "outputs": [
    {
     "data": {
      "text/plain": [
       "12151668.028781855"
      ]
     },
     "execution_count": 10,
     "metadata": {},
     "output_type": "execute_result"
    }
   ],
   "source": [
    "# Standard Deviation\n",
    "state.Population.std()"
   ]
  },
  {
   "cell_type": "code",
   "execution_count": 11,
   "id": "0c15ab24-b40d-4c2e-88d7-b504be9ccb9a",
   "metadata": {},
   "outputs": [
    {
     "data": {
      "text/plain": [
       "2958479.25"
      ]
     },
     "execution_count": 11,
     "metadata": {},
     "output_type": "execute_result"
    }
   ],
   "source": [
    "# Interquartile Range\n",
    "state.Population.quantile(0.75) - state.Population.quantile(0.25)"
   ]
  },
  {
   "cell_type": "markdown",
   "id": "3a654856-2d56-4a42-8d5b-d6f9b48fe9e1",
   "metadata": {},
   "source": [
    "### Robust Measure of Dispersion"
   ]
  },
  {
   "cell_type": "code",
   "execution_count": 12,
   "id": "1e3c7ec1-0390-4e66-9ecd-caea9f927eb5",
   "metadata": {},
   "outputs": [
    {
     "data": {
      "text/plain": [
       "1738049.5"
      ]
     },
     "execution_count": 12,
     "metadata": {},
     "output_type": "execute_result"
    }
   ],
   "source": [
    "# Median Deviation about Median\n",
    "from scipy import stats as st\n",
    "st.median_abs_deviation(state['Population'])"
   ]
  },
  {
   "cell_type": "markdown",
   "id": "2d17a5f4-bd6c-4fd8-8fb5-0da7809f1821",
   "metadata": {},
   "source": [
    "## Visualization"
   ]
  },
  {
   "cell_type": "markdown",
   "id": "57b48925-37e1-4032-9a49-d2d0ce59016b",
   "metadata": {},
   "source": [
    "### Exploring Data Distribution"
   ]
  },
  {
   "cell_type": "code",
   "execution_count": 13,
   "id": "ede7e931-6e6b-455a-9cf2-d6a26fd4e1cd",
   "metadata": {},
   "outputs": [
    {
     "data": {
      "text/plain": [
       "0.05    2.540\n",
       "0.25    4.000\n",
       "0.50    5.150\n",
       "0.75    5.625\n",
       "0.95    5.765\n",
       "Name: Murder.rate, dtype: float64"
      ]
     },
     "execution_count": 13,
     "metadata": {},
     "output_type": "execute_result"
    }
   ],
   "source": [
    "# Percentile for Tail Summerization\n",
    "state['Murder.rate'].quantile([0.05,0.25,0.50,0.75,0.95])"
   ]
  },
  {
   "cell_type": "code",
   "execution_count": 14,
   "id": "ca50a4f2-b46d-4136-9a41-1c2aeb31af8e",
   "metadata": {},
   "outputs": [
    {
     "data": {
      "text/plain": [
       "count    8.000000\n",
       "mean     4.625000\n",
       "std      1.350926\n",
       "min      2.400000\n",
       "25%      4.000000\n",
       "50%      5.150000\n",
       "75%      5.625000\n",
       "max      5.800000\n",
       "Name: Murder.rate, dtype: float64"
      ]
     },
     "execution_count": 14,
     "metadata": {},
     "output_type": "execute_result"
    }
   ],
   "source": [
    "state['Murder.rate'].describe()"
   ]
  },
  {
   "cell_type": "code",
   "execution_count": 15,
   "id": "b58f75ac-820a-47f1-badd-a290bc7e8438",
   "metadata": {},
   "outputs": [
    {
     "data": {
      "text/plain": [
       "Text(0, 0.5, 'Population(millions)')"
      ]
     },
     "execution_count": 15,
     "metadata": {},
     "output_type": "execute_result"
    },
    {
     "data": {
      "image/png": "[encoded data removed]",
      "text/plain": [
       "<Figure size 640x480 with 1 Axes>"
      ]
     },
     "metadata": {},
     "output_type": "display_data"
    }
   ],
   "source": [
    "#Boxplot\n",
    "ax = (state.Population/1_000_000).plot.box()\n",
    "ax.set_ylabel('Population(millions)')"
   ]
  },
  {
   "cell_type": "markdown",
   "id": "e792224e",
   "metadata": {},
   "source": [
    "### See What Happens Next"
   ]
  },
  {
   "cell_type": "code",
   "execution_count": null,
   "id": "e0e05a8e-49d5-4605-a8a0-a06bebc40b1f",
   "metadata": {},
   "outputs": [],
   "source": []
  }
 ],
 "metadata": {
  "kernelspec": {
   "display_name": "myproject",
   "language": "python",
   "name": "myproject"
  }
 },
 "nbformat": 4,
 "nbformat_minor": 5
}
