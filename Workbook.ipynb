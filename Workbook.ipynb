{
 "cells": [
  {
   "cell_type": "code",
   "execution_count": 3,
   "id": "4b376c67-2747-444c-ad95-265798ba3176",
   "metadata": {},
   "outputs": [],
   "source": [
    "import pandas as  pd"
   ]
  },
  {
   "cell_type": "code",
   "execution_count": 32,
   "id": "2cd56650",
   "metadata": {},
   "outputs": [],
   "source": [
    "scode= pd.read_csv(\"/home/prasun/Downloads/percent_black_in_2018.csv\")\n",
    "mcode = pd.read_csv(\"/home/prasun/Downloads/US_violent_crime.csv\")"
   ]
  },
  {
   "cell_type": "code",
   "execution_count": 33,
   "id": "3575333c",
   "metadata": {},
   "outputs": [
    {
     "data": {
      "text/html": [
       "<div>\n",
       "<style scoped>\n",
       "    .dataframe tbody tr th:only-of-type {\n",
       "        vertical-align: middle;\n",
       "    }\n",
       "\n",
       "    .dataframe tbody tr th {\n",
       "        vertical-align: top;\n",
       "    }\n",
       "\n",
       "    .dataframe thead th {\n",
       "        text-align: right;\n",
       "    }\n",
       "</style>\n",
       "<table border=\"1\" class=\"dataframe\">\n",
       "  <thead>\n",
       "    <tr style=\"text-align: right;\">\n",
       "      <th></th>\n",
       "      <th>State</th>\n",
       "      <th>State Code</th>\n",
       "      <th>Percent Black</th>\n",
       "    </tr>\n",
       "  </thead>\n",
       "  <tbody>\n",
       "    <tr>\n",
       "      <th>0</th>\n",
       "      <td>Alaska</td>\n",
       "      <td>AK</td>\n",
       "      <td>3.8</td>\n",
       "    </tr>\n",
       "    <tr>\n",
       "      <th>1</th>\n",
       "      <td>Alabama</td>\n",
       "      <td>AL</td>\n",
       "      <td>26.8</td>\n",
       "    </tr>\n",
       "    <tr>\n",
       "      <th>2</th>\n",
       "      <td>Arkansas</td>\n",
       "      <td>AR</td>\n",
       "      <td>15.7</td>\n",
       "    </tr>\n",
       "    <tr>\n",
       "      <th>3</th>\n",
       "      <td>American Samoa</td>\n",
       "      <td>AS</td>\n",
       "      <td>0.0</td>\n",
       "    </tr>\n",
       "    <tr>\n",
       "      <th>4</th>\n",
       "      <td>Arizona</td>\n",
       "      <td>AZ</td>\n",
       "      <td>5.1</td>\n",
       "    </tr>\n",
       "  </tbody>\n",
       "</table>\n",
       "</div>"
      ],
      "text/plain": [
       "            State State Code  Percent Black\n",
       "0          Alaska         AK            3.8\n",
       "1         Alabama         AL           26.8\n",
       "2        Arkansas         AR           15.7\n",
       "3  American Samoa         AS            0.0\n",
       "4         Arizona         AZ            5.1"
      ]
     },
     "execution_count": 33,
     "metadata": {},
     "output_type": "execute_result"
    }
   ],
   "source": [
    "scode.head()"
   ]
  },
  {
   "cell_type": "code",
   "execution_count": 35,
   "id": "ead086f5",
   "metadata": {},
   "outputs": [
    {
     "data": {
      "text/html": [
       "<div>\n",
       "<style scoped>\n",
       "    .dataframe tbody tr th:only-of-type {\n",
       "        vertical-align: middle;\n",
       "    }\n",
       "\n",
       "    .dataframe tbody tr th {\n",
       "        vertical-align: top;\n",
       "    }\n",
       "\n",
       "    .dataframe thead th {\n",
       "        text-align: right;\n",
       "    }\n",
       "</style>\n",
       "<table border=\"1\" class=\"dataframe\">\n",
       "  <thead>\n",
       "    <tr style=\"text-align: right;\">\n",
       "      <th></th>\n",
       "      <th>State</th>\n",
       "      <th>Murder</th>\n",
       "      <th>Assault</th>\n",
       "      <th>UrbanPop</th>\n",
       "      <th>Rape</th>\n",
       "    </tr>\n",
       "  </thead>\n",
       "  <tbody>\n",
       "    <tr>\n",
       "      <th>0</th>\n",
       "      <td>Alabama</td>\n",
       "      <td>13.2</td>\n",
       "      <td>236</td>\n",
       "      <td>58</td>\n",
       "      <td>21.2</td>\n",
       "    </tr>\n",
       "    <tr>\n",
       "      <th>1</th>\n",
       "      <td>Alaska</td>\n",
       "      <td>10.0</td>\n",
       "      <td>263</td>\n",
       "      <td>48</td>\n",
       "      <td>44.5</td>\n",
       "    </tr>\n",
       "  </tbody>\n",
       "</table>\n",
       "</div>"
      ],
      "text/plain": [
       "     State  Murder  Assault  UrbanPop  Rape\n",
       "0  Alabama    13.2      236        58  21.2\n",
       "1   Alaska    10.0      263        48  44.5"
      ]
     },
     "execution_count": 35,
     "metadata": {},
     "output_type": "execute_result"
    }
   ],
   "source": [
    "mcode.head(2)"
   ]
  },
  {
   "cell_type": "code",
   "execution_count": 42,
   "id": "024dd155",
   "metadata": {},
   "outputs": [
    {
     "data": {
      "text/plain": [
       "Index(['State', 'Lit_A', 'POP_EST'], dtype='object')"
      ]
     },
     "execution_count": 42,
     "metadata": {},
     "output_type": "execute_result"
    }
   ],
   "source": [
    "ppl.columns"
   ]
  },
  {
   "cell_type": "code",
   "execution_count": 43,
   "id": "b534181a",
   "metadata": {},
   "outputs": [
    {
     "data": {
      "text/html": [
       "<div>\n",
       "<style scoped>\n",
       "    .dataframe tbody tr th:only-of-type {\n",
       "        vertical-align: middle;\n",
       "    }\n",
       "\n",
       "    .dataframe tbody tr th {\n",
       "        vertical-align: top;\n",
       "    }\n",
       "\n",
       "    .dataframe thead th {\n",
       "        text-align: right;\n",
       "    }\n",
       "</style>\n",
       "<table border=\"1\" class=\"dataframe\">\n",
       "  <thead>\n",
       "    <tr style=\"text-align: right;\">\n",
       "      <th></th>\n",
       "      <th>State</th>\n",
       "      <th>Literate</th>\n",
       "      <th>Population</th>\n",
       "    </tr>\n",
       "  </thead>\n",
       "  <tbody>\n",
       "    <tr>\n",
       "      <th>0</th>\n",
       "      <td>New Hampshire</td>\n",
       "      <td>278.9</td>\n",
       "      <td>1348787</td>\n",
       "    </tr>\n",
       "    <tr>\n",
       "      <th>1</th>\n",
       "      <td>Minnesota</td>\n",
       "      <td>278.8</td>\n",
       "      <td>5566230</td>\n",
       "    </tr>\n",
       "    <tr>\n",
       "      <th>2</th>\n",
       "      <td>Alaska</td>\n",
       "      <td>276.7</td>\n",
       "      <td>739700</td>\n",
       "    </tr>\n",
       "    <tr>\n",
       "      <th>3</th>\n",
       "      <td>District of Columbia</td>\n",
       "      <td>276.7</td>\n",
       "      <td>694906</td>\n",
       "    </tr>\n",
       "    <tr>\n",
       "      <th>4</th>\n",
       "      <td>Vermont</td>\n",
       "      <td>276.7</td>\n",
       "      <td>624344</td>\n",
       "    </tr>\n",
       "  </tbody>\n",
       "</table>\n",
       "</div>"
      ],
      "text/plain": [
       "                  State  Literate  Population\n",
       "0         New Hampshire     278.9     1348787\n",
       "1             Minnesota     278.8     5566230\n",
       "2                Alaska     276.7      739700\n",
       "3  District of Columbia     276.7      694906\n",
       "4               Vermont     276.7      624344"
      ]
     },
     "execution_count": 43,
     "metadata": {},
     "output_type": "execute_result"
    }
   ],
   "source": [
    "ppl = pd.read_csv(\"/home/prasun/Downloads/archive/LITERACY_AND_POP_V2.csv\")\n",
    "ppl.columns = [\"State\",\"Literate\",\"Population\"]\n",
    "ppl.head()"
   ]
  },
  {
   "cell_type": "markdown",
   "id": "4aaba3fb",
   "metadata": {},
   "source": [
    "### Dataframe Inner-Join"
   ]
  },
  {
   "cell_type": "code",
   "execution_count": 44,
   "id": "727d9cd4",
   "metadata": {},
   "outputs": [
    {
     "data": {
      "text/html": [
       "<div>\n",
       "<style scoped>\n",
       "    .dataframe tbody tr th:only-of-type {\n",
       "        vertical-align: middle;\n",
       "    }\n",
       "\n",
       "    .dataframe tbody tr th {\n",
       "        vertical-align: top;\n",
       "    }\n",
       "\n",
       "    .dataframe thead th {\n",
       "        text-align: right;\n",
       "    }\n",
       "</style>\n",
       "<table border=\"1\" class=\"dataframe\">\n",
       "  <thead>\n",
       "    <tr style=\"text-align: right;\">\n",
       "      <th></th>\n",
       "      <th>State</th>\n",
       "      <th>Murder</th>\n",
       "      <th>Assault</th>\n",
       "      <th>UrbanPop</th>\n",
       "      <th>Rape</th>\n",
       "      <th>State Code</th>\n",
       "      <th>Percent Black</th>\n",
       "    </tr>\n",
       "  </thead>\n",
       "  <tbody>\n",
       "    <tr>\n",
       "      <th>0</th>\n",
       "      <td>Alabama</td>\n",
       "      <td>13.2</td>\n",
       "      <td>236</td>\n",
       "      <td>58</td>\n",
       "      <td>21.2</td>\n",
       "      <td>AL</td>\n",
       "      <td>26.8</td>\n",
       "    </tr>\n",
       "    <tr>\n",
       "      <th>1</th>\n",
       "      <td>Alaska</td>\n",
       "      <td>10.0</td>\n",
       "      <td>263</td>\n",
       "      <td>48</td>\n",
       "      <td>44.5</td>\n",
       "      <td>AK</td>\n",
       "      <td>3.8</td>\n",
       "    </tr>\n",
       "    <tr>\n",
       "      <th>2</th>\n",
       "      <td>Arizona</td>\n",
       "      <td>8.1</td>\n",
       "      <td>294</td>\n",
       "      <td>80</td>\n",
       "      <td>31.0</td>\n",
       "      <td>AZ</td>\n",
       "      <td>5.1</td>\n",
       "    </tr>\n",
       "    <tr>\n",
       "      <th>3</th>\n",
       "      <td>Arkansas</td>\n",
       "      <td>8.8</td>\n",
       "      <td>190</td>\n",
       "      <td>50</td>\n",
       "      <td>19.5</td>\n",
       "      <td>AR</td>\n",
       "      <td>15.7</td>\n",
       "    </tr>\n",
       "    <tr>\n",
       "      <th>4</th>\n",
       "      <td>California</td>\n",
       "      <td>9.0</td>\n",
       "      <td>276</td>\n",
       "      <td>91</td>\n",
       "      <td>40.6</td>\n",
       "      <td>CA</td>\n",
       "      <td>6.5</td>\n",
       "    </tr>\n",
       "  </tbody>\n",
       "</table>\n",
       "</div>"
      ],
      "text/plain": [
       "        State  Murder  Assault  UrbanPop  Rape State Code  Percent Black\n",
       "0     Alabama    13.2      236        58  21.2         AL           26.8\n",
       "1      Alaska    10.0      263        48  44.5         AK            3.8\n",
       "2     Arizona     8.1      294        80  31.0         AZ            5.1\n",
       "3    Arkansas     8.8      190        50  19.5         AR           15.7\n",
       "4  California     9.0      276        91  40.6         CA            6.5"
      ]
     },
     "execution_count": 44,
     "metadata": {},
     "output_type": "execute_result"
    }
   ],
   "source": [
    "final = pd.merge( mcode,scode, how=\"inner\", on= \"State\")\n",
    "final.head()"
   ]
  },
  {
   "cell_type": "code",
   "execution_count": 45,
   "id": "46a210ff",
   "metadata": {},
   "outputs": [
    {
     "data": {
      "text/html": [
       "<div>\n",
       "<style scoped>\n",
       "    .dataframe tbody tr th:only-of-type {\n",
       "        vertical-align: middle;\n",
       "    }\n",
       "\n",
       "    .dataframe tbody tr th {\n",
       "        vertical-align: top;\n",
       "    }\n",
       "\n",
       "    .dataframe thead th {\n",
       "        text-align: right;\n",
       "    }\n",
       "</style>\n",
       "<table border=\"1\" class=\"dataframe\">\n",
       "  <thead>\n",
       "    <tr style=\"text-align: right;\">\n",
       "      <th></th>\n",
       "      <th>State</th>\n",
       "      <th>Murder</th>\n",
       "      <th>Assault</th>\n",
       "      <th>UrbanPop</th>\n",
       "      <th>Rape</th>\n",
       "      <th>State Code</th>\n",
       "      <th>Percent Black</th>\n",
       "      <th>Literate</th>\n",
       "      <th>Population</th>\n",
       "    </tr>\n",
       "  </thead>\n",
       "  <tbody>\n",
       "    <tr>\n",
       "      <th>0</th>\n",
       "      <td>Alabama</td>\n",
       "      <td>13.2</td>\n",
       "      <td>236</td>\n",
       "      <td>58</td>\n",
       "      <td>21.2</td>\n",
       "      <td>AL</td>\n",
       "      <td>26.8</td>\n",
       "      <td>258.9</td>\n",
       "      <td>4874486</td>\n",
       "    </tr>\n",
       "    <tr>\n",
       "      <th>1</th>\n",
       "      <td>Alaska</td>\n",
       "      <td>10.0</td>\n",
       "      <td>263</td>\n",
       "      <td>48</td>\n",
       "      <td>44.5</td>\n",
       "      <td>AK</td>\n",
       "      <td>3.8</td>\n",
       "      <td>276.7</td>\n",
       "      <td>739700</td>\n",
       "    </tr>\n",
       "    <tr>\n",
       "      <th>2</th>\n",
       "      <td>Arizona</td>\n",
       "      <td>8.1</td>\n",
       "      <td>294</td>\n",
       "      <td>80</td>\n",
       "      <td>31.0</td>\n",
       "      <td>AZ</td>\n",
       "      <td>5.1</td>\n",
       "      <td>262.4</td>\n",
       "      <td>7044008</td>\n",
       "    </tr>\n",
       "    <tr>\n",
       "      <th>3</th>\n",
       "      <td>Arkansas</td>\n",
       "      <td>8.8</td>\n",
       "      <td>190</td>\n",
       "      <td>50</td>\n",
       "      <td>19.5</td>\n",
       "      <td>AR</td>\n",
       "      <td>15.7</td>\n",
       "      <td>258.7</td>\n",
       "      <td>3001345</td>\n",
       "    </tr>\n",
       "    <tr>\n",
       "      <th>4</th>\n",
       "      <td>California</td>\n",
       "      <td>9.0</td>\n",
       "      <td>276</td>\n",
       "      <td>91</td>\n",
       "      <td>40.6</td>\n",
       "      <td>CA</td>\n",
       "      <td>6.5</td>\n",
       "      <td>257.2</td>\n",
       "      <td>39358497</td>\n",
       "    </tr>\n",
       "  </tbody>\n",
       "</table>\n",
       "</div>"
      ],
      "text/plain": [
       "        State  Murder  Assault  UrbanPop  Rape State Code  Percent Black  \\\n",
       "0     Alabama    13.2      236        58  21.2         AL           26.8   \n",
       "1      Alaska    10.0      263        48  44.5         AK            3.8   \n",
       "2     Arizona     8.1      294        80  31.0         AZ            5.1   \n",
       "3    Arkansas     8.8      190        50  19.5         AR           15.7   \n",
       "4  California     9.0      276        91  40.6         CA            6.5   \n",
       "\n",
       "   Literate  Population  \n",
       "0     258.9     4874486  \n",
       "1     276.7      739700  \n",
       "2     262.4     7044008  \n",
       "3     258.7     3001345  \n",
       "4     257.2    39358497  "
      ]
     },
     "execution_count": 45,
     "metadata": {},
     "output_type": "execute_result"
    }
   ],
   "source": [
    "state = pd.merge(final,ppl,how= \"inner\", on= \"State\")\n",
    "state.head()"
   ]
  },
  {
   "cell_type": "code",
   "execution_count": 46,
   "id": "1791354e-3bfe-4013-9440-b066171944ea",
   "metadata": {},
   "outputs": [
    {
     "data": {
      "text/plain": [
       "6485812.66"
      ]
     },
     "execution_count": 46,
     "metadata": {},
     "output_type": "execute_result"
    }
   ],
   "source": [
    "state.Population.mean()"
   ]
  },
  {
   "cell_type": "code",
   "execution_count": 47,
   "id": "8a58061c-401d-45b2-b768-3540c8758ba4",
   "metadata": {},
   "outputs": [
    {
     "data": {
      "text/plain": [
       "4561414.0"
      ]
     },
     "execution_count": 47,
     "metadata": {},
     "output_type": "execute_result"
    }
   ],
   "source": [
    "state.Population.median()"
   ]
  },
  {
   "cell_type": "markdown",
   "id": "ccd654dd-e19d-4a28-a4ab-98a14d524c2a",
   "metadata": {},
   "source": [
    "## Robust Measures of Location"
   ]
  },
  {
   "cell_type": "markdown",
   "id": "d8df5036-2fe5-490b-b160-ea436a7053b4",
   "metadata": {},
   "source": [
    "### Trimmed Mean"
   ]
  },
  {
   "cell_type": "code",
   "execution_count": 48,
   "id": "2ffe01ca-81d1-4bbe-aa50-caa3d74e2d1e",
   "metadata": {},
   "outputs": [
    {
     "data": {
      "text/plain": [
       "4993131.3"
      ]
     },
     "execution_count": 48,
     "metadata": {},
     "output_type": "execute_result"
    }
   ],
   "source": [
    "import numpy as np\n",
    "from scipy import stats\n",
    "stats.trim_mean(state.Population, 0.10)"
   ]
  },
  {
   "cell_type": "markdown",
   "id": "830e7a36-0f12-4368-8b62-bbf1670bb5e7",
   "metadata": {},
   "source": [
    "### Weighted Mean"
   ]
  },
  {
   "cell_type": "code",
   "execution_count": 51,
   "id": "8e52e3cb-5575-4455-bade-35e71668c231",
   "metadata": {},
   "outputs": [
    {
     "data": {
      "text/plain": [
       "9.631572770712745"
      ]
     },
     "execution_count": 51,
     "metadata": {},
     "output_type": "execute_result"
    }
   ],
   "source": [
    "import numpy as np\n",
    "np.average(state[\"Murder\"],weights= state.Population )"
   ]
  },
  {
   "cell_type": "markdown",
   "id": "b57de7f9-c89a-4eb6-9fec-2ba1fff39a34",
   "metadata": {},
   "source": [
    "### Weighted Median"
   ]
  },
  {
   "cell_type": "code",
   "execution_count": 53,
   "id": "7563e30a-8045-4f10-9d23-54442856f325",
   "metadata": {},
   "outputs": [
    {
     "data": {
      "text/plain": [
       "9.330869826171718"
      ]
     },
     "execution_count": 53,
     "metadata": {},
     "output_type": "execute_result"
    }
   ],
   "source": [
    "import wquantiles as wq\n",
    "wq.median(state[\"Murder\"],weights= state.Population)"
   ]
  },
  {
   "cell_type": "markdown",
   "id": "a7494790-ef5e-4269-96bc-5eb56a2df07c",
   "metadata": {},
   "source": [
    "## Estimates of variablity"
   ]
  },
  {
   "cell_type": "code",
   "execution_count": 54,
   "id": "6c6313d7-f6e8-4934-b5e7-27aa282b40da",
   "metadata": {},
   "outputs": [
    {
     "data": {
      "text/plain": [
       "7316961.233267437"
      ]
     },
     "execution_count": 54,
     "metadata": {},
     "output_type": "execute_result"
    }
   ],
   "source": [
    "# Standard Deviation\n",
    "state.Population.std()"
   ]
  },
  {
   "cell_type": "code",
   "execution_count": 55,
   "id": "0c15ab24-b40d-4c2e-88d7-b504be9ccb9a",
   "metadata": {},
   "outputs": [
    {
     "data": {
      "text/plain": [
       "5486783.75"
      ]
     },
     "execution_count": 55,
     "metadata": {},
     "output_type": "execute_result"
    }
   ],
   "source": [
    "# Interquartile Range\n",
    "state.Population.quantile(0.75) - state.Population.quantile(0.25)"
   ]
  },
  {
   "cell_type": "markdown",
   "id": "3a654856-2d56-4a42-8d5b-d6f9b48fe9e1",
   "metadata": {},
   "source": [
    "### Robust Measure of Dispersion"
   ]
  },
  {
   "cell_type": "code",
   "execution_count": 56,
   "id": "1e3c7ec1-0390-4e66-9ecd-caea9f927eb5",
   "metadata": {},
   "outputs": [
    {
     "data": {
      "text/plain": [
       "2794054.5"
      ]
     },
     "execution_count": 56,
     "metadata": {},
     "output_type": "execute_result"
    }
   ],
   "source": [
    "# Median Deviation about Median\n",
    "from scipy import stats as st\n",
    "st.median_abs_deviation(state['Population'])"
   ]
  },
  {
   "cell_type": "markdown",
   "id": "2d17a5f4-bd6c-4fd8-8fb5-0da7809f1821",
   "metadata": {},
   "source": [
    "## Visualization"
   ]
  },
  {
   "cell_type": "markdown",
   "id": "57b48925-37e1-4032-9a49-d2d0ce59016b",
   "metadata": {},
   "source": [
    "### Exploring Data Distribution"
   ]
  },
  {
   "cell_type": "code",
   "execution_count": 57,
   "id": "ede7e931-6e6b-455a-9cf2-d6a26fd4e1cd",
   "metadata": {},
   "outputs": [
    {
     "data": {
      "text/plain": [
       "0.05     2.145\n",
       "0.25     4.075\n",
       "0.50     7.250\n",
       "0.75    11.250\n",
       "0.95    15.400\n",
       "Name: Murder, dtype: float64"
      ]
     },
     "execution_count": 57,
     "metadata": {},
     "output_type": "execute_result"
    }
   ],
   "source": [
    "# Percentile for Tail Summerization\n",
    "state['Murder'].quantile([0.05,0.25,0.50,0.75,0.95])"
   ]
  },
  {
   "cell_type": "code",
   "execution_count": 58,
   "id": "ca50a4f2-b46d-4136-9a41-1c2aeb31af8e",
   "metadata": {},
   "outputs": [
    {
     "data": {
      "text/plain": [
       "count    50.00000\n",
       "mean      7.78800\n",
       "std       4.35551\n",
       "min       0.80000\n",
       "25%       4.07500\n",
       "50%       7.25000\n",
       "75%      11.25000\n",
       "max      17.40000\n",
       "Name: Murder, dtype: float64"
      ]
     },
     "execution_count": 58,
     "metadata": {},
     "output_type": "execute_result"
    }
   ],
   "source": [
    "state['Murder'].describe()"
   ]
  },
  {
   "cell_type": "code",
   "execution_count": 60,
   "id": "b58f75ac-820a-47f1-badd-a290bc7e8438",
   "metadata": {},
   "outputs": [
    {
     "data": {
      "text/plain": [
       "Text(0, 0.5, 'Population(millions)')"
      ]
     },
     "execution_count": 60,
     "metadata": {},
     "output_type": "execute_result"
    },
    {
     "data": {
      "image/png": "[encoded data removed]",
      "text/plain": [
       "<Figure size 640x480 with 1 Axes>"
      ]
     },
     "metadata": {},
     "output_type": "display_data"
    }
   ],
   "source": [
    "#Boxplot\n",
    "ax = (state.Population/1_000_000).plot.box()\n",
    "ax.set_ylabel('Population(millions)')"
   ]
  },
  {
   "cell_type": "markdown",
   "id": "e792224e",
   "metadata": {},
   "source": [
    "### Frequency Table and Histogram"
   ]
  },
  {
   "cell_type": "code",
   "execution_count": 64,
   "id": "e0e05a8e-49d5-4605-a8a0-a06bebc40b1f",
   "metadata": {},
   "outputs": [
    {
     "name": "stdout",
     "output_type": "stream",
     "text": [
      "<class 'pandas.core.series.Series'>\n"
     ]
    },
    {
     "data": {
      "text/plain": [
       "Population\n",
       "(540151.434, 4456887.6]     25\n",
       "(4456887.6, 8334844.2]      13\n",
       "(8334844.2, 12212800.8]      6\n",
       "(12212800.8, 16090757.4]     2\n",
       "(16090757.4, 19968714.0]     1\n",
       "(19968714.0, 23846670.6]     1\n",
       "(27724627.2, 31602583.8]     1\n",
       "(35480540.4, 39358497.0]     1\n",
       "(23846670.6, 27724627.2]     0\n",
       "(31602583.8, 35480540.4]     0\n",
       "Name: count, dtype: int64"
      ]
     },
     "execution_count": 64,
     "metadata": {},
     "output_type": "execute_result"
    }
   ],
   "source": [
    "#cut() method\n",
    "popseg = pd.cut(state.Population,10)\n",
    "print(type(popseg.value_counts()))\n",
    "popseg.value_counts()"
   ]
  },
  {
   "cell_type": "code",
   "execution_count": 82,
   "id": "b10246a4",
   "metadata": {},
   "outputs": [
    {
     "name": "stdout",
     "output_type": "stream",
     "text": [
      "Max:\n",
      "\n",
      "        State  Population\n",
      "4  California    39358497\n",
      "\n",
      "Min:\n",
      "\n",
      "      State  Population\n",
      "49  Wyoming      578931\n"
     ]
    }
   ],
   "source": [
    "#State Having Maximum and Minimum Population\n",
    "\n",
    "print(\"Max:\\n\")\n",
    "print(state.loc[state.Population == state.Population.max()][[\"State\",\"Population\"]])\n",
    "print(\"\\nMin:\\n\")\n",
    "print(state.loc[state.Population == state.Population.min()][[\"State\",\"Population\"]])\n"
   ]
  },
  {
   "cell_type": "markdown",
   "id": "a664dd23",
   "metadata": {},
   "source": [
    "### Histogram"
   ]
  },
  {
   "cell_type": "code",
   "execution_count": 89,
   "id": "ac9517e7",
   "metadata": {},
   "outputs": [
    {
     "data": {
      "text/plain": [
       "Text(0.5, 0, 'Population(in Millions)')"
      ]
     },
     "execution_count": 89,
     "metadata": {},
     "output_type": "execute_result"
    },
    {
     "data": {
      "image/png": "[encoded data removed]",
      "text/plain": [
       "<Figure size 400x400 with 1 Axes>"
      ]
     },
     "metadata": {},
     "output_type": "display_data"
    }
   ],
   "source": [
    "# Pandas Method to plot Histogram\n",
    "ax =(state.Population/1_000_000).plot.hist(figsize=(4,4), bins= 10)\n",
    "ax.set_xlabel(\"Population(in Millions)\")"
   ]
  },
  {
   "cell_type": "code",
   "execution_count": null,
   "id": "3db0dcf4",
   "metadata": {},
   "outputs": [],
   "source": []
  }
 ],
 "metadata": {
  "kernelspec": {
   "display_name": "myproject",
   "language": "python",
   "name": "myproject"
  },
  "language_info": {
   "codemirror_mode": {
    "name": "ipython",
    "version": 3
   },
   "file_extension": ".py",
   "mimetype": "text/x-python",
   "name": "python",
   "nbconvert_exporter": "python",
   "pygments_lexer": "ipython3",
   "version": "3.11.6"
  }
 },
 "nbformat": 4,
 "nbformat_minor": 5
}
